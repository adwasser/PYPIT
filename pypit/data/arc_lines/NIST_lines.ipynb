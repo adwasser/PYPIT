{
 "cells": [
  {
   "cell_type": "markdown",
   "metadata": {},
   "source": [
    "# Trolling NIST (v1.2)"
   ]
  },
  {
   "cell_type": "code",
   "execution_count": 4,
   "metadata": {
    "collapsed": false
   },
   "outputs": [],
   "source": [
    "# import\n",
    "import mechanize\n",
    "import yaml\n",
    "sys.path.append(os.getenv('PYPIT')+'/src')\n",
    "# For logging\n",
    "import ardebug\n",
    "import armsgs\n",
    "debug = ardebug.init()\n",
    "last_updated = \"26 November 2015\"\n",
    "version = '0.3'\n",
    "verbose = False\n",
    "msgs = armsgs.get_logger((None, debug, last_updated, version, verbose))\n",
    "import ararclines as alines"
   ]
  },
  {
   "cell_type": "markdown",
   "metadata": {},
   "source": [
    "## Testing"
   ]
  },
  {
   "cell_type": "code",
   "execution_count": 3,
   "metadata": {
    "collapsed": true
   },
   "outputs": [],
   "source": [
    "# init\n",
    "browser = mechanize.Browser(factory=mechanize.RobustFactory())\n",
    "browser.set_handle_robots(False)"
   ]
  },
  {
   "cell_type": "code",
   "execution_count": 8,
   "metadata": {
    "collapsed": false
   },
   "outputs": [],
   "source": [
    "page = browser.open(\"http://physics.nist.gov/PhysRefData/ASD/lines_form.html\")"
   ]
  },
  {
   "cell_type": "code",
   "execution_count": 11,
   "metadata": {
    "collapsed": false
   },
   "outputs": [
    {
     "ename": "FormNotFoundError",
     "evalue": "no form matching name 'upp_wn'",
     "output_type": "error",
     "traceback": [
      "\u001b[0;31m---------------------------------------------------------------------------\u001b[0m",
      "\u001b[0;31mFormNotFoundError\u001b[0m                         Traceback (most recent call last)",
      "\u001b[0;32m<ipython-input-11-790d75c77078>\u001b[0m in \u001b[0;36m<module>\u001b[0;34m()\u001b[0m\n\u001b[0;32m----> 1\u001b[0;31m \u001b[0mbrowser\u001b[0m\u001b[0;34m.\u001b[0m\u001b[0mselect_form\u001b[0m\u001b[0;34m(\u001b[0m\u001b[0mname\u001b[0m\u001b[0;34m=\u001b[0m\u001b[0;34m\"upp_wn\"\u001b[0m\u001b[0;34m)\u001b[0m\u001b[0;34m\u001b[0m\u001b[0m\n\u001b[0m",
      "\u001b[0;32m/Users/xavier/anaconda/lib/python2.7/site-packages/mechanize-0.2.6.dev20151024-py2.7.egg/mechanize/_mechanize.pyc\u001b[0m in \u001b[0;36mselect_form\u001b[0;34m(self, name, predicate, nr)\u001b[0m\n\u001b[1;32m    522\u001b[0m             \u001b[0;32mif\u001b[0m \u001b[0morig_nr\u001b[0m \u001b[0;32mis\u001b[0m \u001b[0;32mnot\u001b[0m \u001b[0mNone\u001b[0m\u001b[0;34m:\u001b[0m \u001b[0mdescription\u001b[0m\u001b[0;34m.\u001b[0m\u001b[0mappend\u001b[0m\u001b[0;34m(\u001b[0m\u001b[0;34m\"nr %d\"\u001b[0m \u001b[0;34m%\u001b[0m \u001b[0morig_nr\u001b[0m\u001b[0;34m)\u001b[0m\u001b[0;34m\u001b[0m\u001b[0m\n\u001b[1;32m    523\u001b[0m             \u001b[0mdescription\u001b[0m \u001b[0;34m=\u001b[0m \u001b[0;34m\", \"\u001b[0m\u001b[0;34m.\u001b[0m\u001b[0mjoin\u001b[0m\u001b[0;34m(\u001b[0m\u001b[0mdescription\u001b[0m\u001b[0;34m)\u001b[0m\u001b[0;34m\u001b[0m\u001b[0m\n\u001b[0;32m--> 524\u001b[0;31m             \u001b[0;32mraise\u001b[0m \u001b[0mFormNotFoundError\u001b[0m\u001b[0;34m(\u001b[0m\u001b[0;34m\"no form matching \"\u001b[0m\u001b[0;34m+\u001b[0m\u001b[0mdescription\u001b[0m\u001b[0;34m)\u001b[0m\u001b[0;34m\u001b[0m\u001b[0m\n\u001b[0m\u001b[1;32m    525\u001b[0m \u001b[0;34m\u001b[0m\u001b[0m\n\u001b[1;32m    526\u001b[0m     \u001b[0;32mdef\u001b[0m \u001b[0mclick\u001b[0m\u001b[0;34m(\u001b[0m\u001b[0mself\u001b[0m\u001b[0;34m,\u001b[0m \u001b[0;34m*\u001b[0m\u001b[0margs\u001b[0m\u001b[0;34m,\u001b[0m \u001b[0;34m**\u001b[0m\u001b[0mkwds\u001b[0m\u001b[0;34m)\u001b[0m\u001b[0;34m:\u001b[0m\u001b[0;34m\u001b[0m\u001b[0m\n",
      "\u001b[0;31mFormNotFoundError\u001b[0m: no form matching name 'upp_wn'"
     ]
    }
   ],
   "source": [
    "browser.select_form(name=\"upp_wn\")"
   ]
  },
  {
   "cell_type": "markdown",
   "metadata": {},
   "source": [
    "### Must be using Java Script..."
   ]
  },
  {
   "cell_type": "markdown",
   "metadata": {},
   "source": [
    "## Pulling by hand...\n",
    "\n",
    "    e.g.  Zn I  3000.  10000."
   ]
  },
  {
   "cell_type": "markdown",
   "metadata": {},
   "source": [
    "### Parse"
   ]
  },
  {
   "cell_type": "code",
   "execution_count": 5,
   "metadata": {
    "collapsed": false
   },
   "outputs": [],
   "source": [
    "reload(alines)\n",
    "tbl = alines.parse_nist(None,'ZnI')"
   ]
  },
  {
   "cell_type": "code",
   "execution_count": 6,
   "metadata": {
    "collapsed": false
   },
   "outputs": [
    {
     "data": {
      "text/html": [
       "&lt;Table masked=True length=37&gt;\n",
       "<table id=\"table4479128144\">\n",
       "<thead><tr><th>wave</th><th>Aki</th><th>Acc.</th><th>Ei           Ek</th><th>Lower level</th><th>Upper level</th><th>Type</th><th>TP</th><th>Line</th><th>RelInt</th><th>Ion</th></tr></thead>\n",
       "<thead><tr><th>float64</th><th>float64</th><th>int64</th><th>int64</th><th>int64</th><th>int64</th><th>int64</th><th>str5</th><th>str5</th><th>int64</th><th>str5</th></tr></thead>\n",
       "<tr><td>3018.36</td><td>--</td><td>--</td><td>--</td><td>--</td><td>--</td><td>--</td><td>--</td><td>L4741</td><td>125</td><td>ZnI</td></tr>\n",
       "<tr><td>3035.78</td><td>--</td><td>--</td><td>--</td><td>--</td><td>--</td><td>--</td><td>--</td><td>L4741</td><td>200</td><td>ZnI</td></tr>\n",
       "<tr><td>3072.06</td><td>--</td><td>--</td><td>--</td><td>--</td><td>--</td><td>--</td><td>--</td><td>L4741</td><td>200</td><td>ZnI</td></tr>\n",
       "<tr><td>3075.9</td><td>32900.0</td><td>--</td><td>--</td><td>0</td><td>1</td><td>--</td><td>T3464</td><td>L4741</td><td>150</td><td>ZnI</td></tr>\n",
       "<tr><td>3282.33</td><td>90000000.0</td><td>--</td><td>--</td><td>0</td><td>1</td><td>--</td><td>T3464</td><td>L4741</td><td>500</td><td>ZnI</td></tr>\n",
       "<tr><td>3302.58</td><td>120000000.0</td><td>--</td><td>--</td><td>1</td><td>2</td><td>--</td><td>T3464</td><td>L4741</td><td>800</td><td>ZnI</td></tr>\n",
       "<tr><td>3302.94</td><td>67000000.0</td><td>--</td><td>--</td><td>1</td><td>1</td><td>--</td><td>T3464</td><td>L4741</td><td>700</td><td>ZnI</td></tr>\n",
       "<tr><td>3345.02</td><td>170000000.0</td><td>--</td><td>--</td><td>2</td><td>3</td><td>--</td><td>T3464</td><td>L4741</td><td>800</td><td>ZnI</td></tr>\n",
       "<tr><td>3345.57</td><td>40000000.0</td><td>--</td><td>--</td><td>2</td><td>2</td><td>--</td><td>T3464</td><td>L4741</td><td>500</td><td>ZnI</td></tr>\n",
       "<tr><td>3345.94</td><td>4500000.0</td><td>--</td><td>--</td><td>2</td><td>1</td><td>--</td><td>T3464</td><td>L4741</td><td>150</td><td>ZnI</td></tr>\n",
       "<tr><td>...</td><td>...</td><td>...</td><td>...</td><td>...</td><td>...</td><td>...</td><td>...</td><td>...</td><td>...</td><td>...</td></tr>\n",
       "<tr><td>5775.5</td><td>--</td><td>--</td><td>--</td><td>--</td><td>--</td><td>--</td><td>--</td><td>L3284</td><td>4</td><td>ZnI</td></tr>\n",
       "<tr><td>5777.11</td><td>--</td><td>--</td><td>--</td><td>--</td><td>--</td><td>--</td><td>--</td><td>L3284</td><td>10</td><td>ZnI</td></tr>\n",
       "<tr><td>6237.9</td><td>--</td><td>--</td><td>--</td><td>--</td><td>--</td><td>--</td><td>--</td><td>L4741</td><td>8</td><td>ZnI</td></tr>\n",
       "<tr><td>6239.17</td><td>--</td><td>--</td><td>--</td><td>--</td><td>--</td><td>--</td><td>--</td><td>L4741</td><td>8</td><td>ZnI</td></tr>\n",
       "<tr><td>6362.34</td><td>47400000.0</td><td>--</td><td>--</td><td>1</td><td>2</td><td>--</td><td>T3464</td><td>L4741</td><td>1000</td><td>ZnI</td></tr>\n",
       "<tr><td>6479.18</td><td>--</td><td>--</td><td>--</td><td>--</td><td>--</td><td>--</td><td>--</td><td>L4741</td><td>10</td><td>ZnI</td></tr>\n",
       "<tr><td>6928.32</td><td>--</td><td>--</td><td>--</td><td>--</td><td>--</td><td>--</td><td>--</td><td>L3284</td><td>15</td><td>ZnI</td></tr>\n",
       "<tr><td>6938.47</td><td>--</td><td>--</td><td>--</td><td>--</td><td>--</td><td>--</td><td>--</td><td>L3284</td><td>8</td><td>ZnI</td></tr>\n",
       "<tr><td>6943.2</td><td>--</td><td>--</td><td>--</td><td>--</td><td>--</td><td>--</td><td>--</td><td>L3284</td><td>3</td><td>ZnI</td></tr>\n",
       "<tr><td>7799.36</td><td>--</td><td>--</td><td>--</td><td>--</td><td>--</td><td>--</td><td>--</td><td>L3284</td><td>10</td><td>ZnI</td></tr>\n",
       "</table>"
      ],
      "text/plain": [
       "<Table masked=True length=37>\n",
       "  wave      Aki      Acc. Ei           Ek ...   TP   Line RelInt Ion \n",
       "float64   float64   int64      int64      ...  str5  str5 int64  str5\n",
       "------- ----------- ----- --------------- ... ----- ----- ------ ----\n",
       "3018.36          --    --              -- ...    -- L4741    125  ZnI\n",
       "3035.78          --    --              -- ...    -- L4741    200  ZnI\n",
       "3072.06          --    --              -- ...    -- L4741    200  ZnI\n",
       " 3075.9     32900.0    --              -- ... T3464 L4741    150  ZnI\n",
       "3282.33  90000000.0    --              -- ... T3464 L4741    500  ZnI\n",
       "3302.58 120000000.0    --              -- ... T3464 L4741    800  ZnI\n",
       "3302.94  67000000.0    --              -- ... T3464 L4741    700  ZnI\n",
       "3345.02 170000000.0    --              -- ... T3464 L4741    800  ZnI\n",
       "3345.57  40000000.0    --              -- ... T3464 L4741    500  ZnI\n",
       "3345.94   4500000.0    --              -- ... T3464 L4741    150  ZnI\n",
       "    ...         ...   ...             ... ...   ...   ...    ...  ...\n",
       " 5775.5          --    --              -- ...    -- L3284      4  ZnI\n",
       "5777.11          --    --              -- ...    -- L3284     10  ZnI\n",
       " 6237.9          --    --              -- ...    -- L4741      8  ZnI\n",
       "6239.17          --    --              -- ...    -- L4741      8  ZnI\n",
       "6362.34  47400000.0    --              -- ... T3464 L4741   1000  ZnI\n",
       "6479.18          --    --              -- ...    -- L4741     10  ZnI\n",
       "6928.32          --    --              -- ...    -- L3284     15  ZnI\n",
       "6938.47          --    --              -- ...    -- L3284      8  ZnI\n",
       " 6943.2          --    --              -- ...    -- L3284      3  ZnI\n",
       "7799.36          --    --              -- ...    -- L3284     10  ZnI"
      ]
     },
     "execution_count": 6,
     "metadata": {},
     "output_type": "execute_result"
    }
   ],
   "source": [
    "tbl"
   ]
  },
  {
   "cell_type": "markdown",
   "metadata": {},
   "source": [
    "### CdI"
   ]
  },
  {
   "cell_type": "code",
   "execution_count": 7,
   "metadata": {
    "collapsed": true
   },
   "outputs": [],
   "source": [
    "cdI = Table.read('NIST/CdI.ascii',format='ascii.fixed_width')"
   ]
  },
  {
   "cell_type": "code",
   "execution_count": 9,
   "metadata": {
    "collapsed": false
   },
   "outputs": [],
   "source": [
    "reload(alines)\n",
    "cdI = alines.parse_nist(None,'CdI')"
   ]
  },
  {
   "cell_type": "code",
   "execution_count": 76,
   "metadata": {
    "collapsed": false
   },
   "outputs": [
    {
     "data": {
      "text/html": [
       "&lt;Table masked=True length=33&gt;\n",
       "<table id=\"table4508511120\">\n",
       "<thead><tr><th>Observed</th><th>Ritz</th><th>Aki</th><th>Acc.</th><th>Ei           Ek</th><th>Lower level</th><th>Upper level</th><th>Type</th><th>TP</th><th>Line</th><th>RelInt</th><th>Ion</th></tr></thead>\n",
       "<thead><tr><th>float64</th><th>str9</th><th>float64</th><th>int64</th><th>str24</th><th>str21</th><th>str21</th><th>int64</th><th>str5</th><th>str8</th><th>int64</th><th>str3</th></tr></thead>\n",
       "<tr><td>3080.8224</td><td>3080.822+</td><td>--</td><td>--</td><td>30113.990   -  62563.435</td><td>4d10.5s.5p | 3P*  | 0</td><td>4d10.5s.7s | 3S   | 1</td><td>--</td><td>--</td><td>L3486</td><td>150</td><td>CdI</td></tr>\n",
       "<tr><td>3082.5934</td><td>3082.592+</td><td>--</td><td>--</td><td>30656.087   -  63086.896</td><td>4d10.5s.5p | 3P*  | 1</td><td>4d10.5s.7s | 1S   | 0</td><td>--</td><td>--</td><td>L3486</td><td>30</td><td>CdI</td></tr>\n",
       "<tr><td>3133.1666</td><td>3133.166+</td><td>--</td><td>--</td><td>30656.087   -  62563.435</td><td>4d10.5s.5p | 3P*  | 1</td><td>4d10.5s.7s | 3S   | 1</td><td>--</td><td>--</td><td>L3486</td><td>200</td><td>CdI</td></tr>\n",
       "<tr><td>3252.524</td><td>3252.525+</td><td>--</td><td>--</td><td>31826.952   -  62563.435</td><td>4d10.5s.5p | 3P*  | 2</td><td>4d10.5s.7s | 3S   | 1</td><td>--</td><td>--</td><td>L3486</td><td>300</td><td>CdI</td></tr>\n",
       "<tr><td>3261.0548</td><td>3261.055+</td><td>406000.0</td><td>--</td><td>0.000   -  30656.087</td><td>4d10.5s2   | 1S   | 0</td><td>4d10.5s.5p | 3P*  | 1</td><td>--</td><td>T3464</td><td>L3486</td><td>300</td><td>CdI</td></tr>\n",
       "<tr><td>3403.6521</td><td>3403.652+</td><td>77000000.0</td><td>--</td><td>30113.990   -  59485.768</td><td>4d10.5s.5p | 3P*  | 0</td><td>4d10.5s.5d | 3D   | 1</td><td>--</td><td>T3464</td><td>L3486</td><td>800</td><td>CdI</td></tr>\n",
       "<tr><td>3466.1996</td><td>3466.200+</td><td>120000000.0</td><td>--</td><td>30656.087   -  59497.868</td><td>4d10.5s.5p | 3P*  | 1</td><td>4d10.5s.5d | 3D   | 2</td><td>--</td><td>T3464</td><td>L3486</td><td>1000</td><td>CdI</td></tr>\n",
       "<tr><td>3467.6547</td><td>3467.654+</td><td>67000000.0</td><td>--</td><td>30656.087   -  59485.768</td><td>4d10.5s.5p | 3P*  | 1</td><td>4d10.5s.5d | 3D   | 1</td><td>--</td><td>T3464</td><td>L3486</td><td>800</td><td>CdI</td></tr>\n",
       "<tr><td>3499.9518</td><td>3499.952+</td><td>--</td><td>--</td><td>30656.087   -  59219.734</td><td>4d10.5s.5p | 3P*  | 1</td><td>4d10.5s.5d | 1D   | 2</td><td>--</td><td>--</td><td>L3486</td><td>25</td><td>CdI</td></tr>\n",
       "<tr><td>3610.5077</td><td>3610.509+</td><td>130000000.0</td><td>--</td><td>31826.952   -  59515.980</td><td>4d10.5s.5p | 3P*  | 2</td><td>4d10.5s.5d | 3D   | 3</td><td>--</td><td>T3464</td><td>L3486</td><td>1000</td><td>CdI</td></tr>\n",
       "<tr><td>...</td><td>...</td><td>...</td><td>...</td><td>...</td><td>...</td><td>...</td><td>...</td><td>...</td><td>...</td><td>...</td><td>...</td></tr>\n",
       "<tr><td>6111.495</td><td>6111.5+</td><td>--</td><td>--</td><td>51483.980   -  67842.06</td><td>4d10.5s.6s | 3S   | 1</td><td>4d10.5s.8p | 3P*  | 1</td><td>--</td><td>--</td><td>L3486</td><td>100</td><td>CdI</td></tr>\n",
       "<tr><td>6325.1661</td><td>6325.17+</td><td>--</td><td>--</td><td>43692.384   -  59497.868</td><td>4d10.5s.5p | 1P*  | 1</td><td>4d10.5s.5d | 3D   | 2</td><td>--</td><td>--</td><td>L3486</td><td>100</td><td>CdI</td></tr>\n",
       "<tr><td>6330.0133</td><td>6330.01+</td><td>--</td><td>--</td><td>43692.384   -  59485.768</td><td>4d10.5s.5p | 1P*  | 1</td><td>4d10.5s.5d | 3D   | 1</td><td>--</td><td>--</td><td>L3486</td><td>30</td><td>CdI</td></tr>\n",
       "<tr><td>6438.4695</td><td>6438.47+</td><td>59000000.0</td><td>--</td><td>43692.384   -  59219.734</td><td>4d10.5s.5p | 1P*  | 1</td><td>4d10.5s.5d | 1D   | 2</td><td>--</td><td>T3464</td><td>L3486</td><td>2000</td><td>CdI</td></tr>\n",
       "<tr><td>6778.1157</td><td>6778.12+</td><td>--</td><td>--</td><td>53310.101   -  68059.393</td><td>4d10.5s.6s | 1S   | 0</td><td>4d10.5s.8p | 1P*  | 1</td><td>--</td><td>--</td><td>L3486</td><td>30</td><td>CdI</td></tr>\n",
       "<tr><td>7345.6704</td><td>7345.66+</td><td>--</td><td>--</td><td>51483.980   -  65093.702</td><td>4d10.5s.6s | 3S   | 1</td><td>4d10.5s.7p | 3P*  | 2</td><td>--</td><td>--</td><td>L3486</td><td>1000</td><td>CdI</td></tr>\n",
       "<tr><td>8200.3089</td><td>8200.31+</td><td>--</td><td>--</td><td>53310.101   -  65501.412</td><td>4d10.5s.6s | 1S   | 0</td><td>4d10.5s.7p | 1P*  | 1</td><td>--</td><td>--</td><td>L3486</td><td>5</td><td>CdI</td></tr>\n",
       "<tr><td>9292.0</td><td>9283+</td><td>--</td><td>--</td><td>58635.7     -  69405.160</td><td>4d10.5s.6p | 3P*  | 2</td><td>4d10.5s.8d | 3D   | 3</td><td>--</td><td>--</td><td>L7381</td><td>20</td><td>CdI</td></tr>\n",
       "<tr><td>9292.0</td><td>9285+</td><td>--</td><td>--</td><td>58635.7     -  69402.583</td><td>4d10.5s.6p | 3P*  | 2</td><td>4d10.5s.8d | 3D   | 2</td><td>--</td><td>--</td><td>L7381</td><td>20</td><td>CdI</td></tr>\n",
       "<tr><td>9292.0</td><td>9287+</td><td>--</td><td>--</td><td>58635.7     -  69400.900</td><td>4d10.5s.6p | 3P*  | 2</td><td>4d10.5s.8d | 3D   | 1</td><td>--</td><td>--</td><td>L7381</td><td>20</td><td>CdI</td></tr>\n",
       "</table>"
      ],
      "text/plain": [
       "<Table masked=True length=33>\n",
       " Observed    Ritz       Aki      Acc. ...   TP   Line RelInt Ion \n",
       " float64     str9     float64   int64 ...  str5  str8 int64  str3\n",
       "--------- --------- ----------- ----- ... ----- ----- ------ ----\n",
       "3080.8224 3080.822+          --    -- ...    -- L3486    150  CdI\n",
       "3082.5934 3082.592+          --    -- ...    -- L3486     30  CdI\n",
       "3133.1666 3133.166+          --    -- ...    -- L3486    200  CdI\n",
       " 3252.524 3252.525+          --    -- ...    -- L3486    300  CdI\n",
       "3261.0548 3261.055+    406000.0    -- ... T3464 L3486    300  CdI\n",
       "3403.6521 3403.652+  77000000.0    -- ... T3464 L3486    800  CdI\n",
       "3466.1996 3466.200+ 120000000.0    -- ... T3464 L3486   1000  CdI\n",
       "3467.6547 3467.654+  67000000.0    -- ... T3464 L3486    800  CdI\n",
       "3499.9518 3499.952+          --    -- ...    -- L3486     25  CdI\n",
       "3610.5077 3610.509+ 130000000.0    -- ... T3464 L3486   1000  CdI\n",
       "      ...       ...         ...   ... ...   ...   ...    ...  ...\n",
       " 6111.495   6111.5+          --    -- ...    -- L3486    100  CdI\n",
       "6325.1661  6325.17+          --    -- ...    -- L3486    100  CdI\n",
       "6330.0133  6330.01+          --    -- ...    -- L3486     30  CdI\n",
       "6438.4695  6438.47+  59000000.0    -- ... T3464 L3486   2000  CdI\n",
       "6778.1157  6778.12+          --    -- ...    -- L3486     30  CdI\n",
       "7345.6704  7345.66+          --    -- ...    -- L3486   1000  CdI\n",
       "8200.3089  8200.31+          --    -- ...    -- L3486      5  CdI\n",
       "   9292.0     9283+          --    -- ...    -- L7381     20  CdI\n",
       "   9292.0     9285+          --    -- ...    -- L7381     20  CdI\n",
       "   9292.0     9287+          --    -- ...    -- L7381     20  CdI"
      ]
     },
     "execution_count": 76,
     "metadata": {},
     "output_type": "execute_result"
    }
   ],
   "source": [
    "cdI"
   ]
  },
  {
   "cell_type": "markdown",
   "metadata": {},
   "source": [
    "### HgI"
   ]
  },
  {
   "cell_type": "code",
   "execution_count": 10,
   "metadata": {
    "collapsed": false
   },
   "outputs": [],
   "source": [
    "reload(alines)\n",
    "HgI = alines.parse_nist(None,'HgI')"
   ]
  },
  {
   "cell_type": "code",
   "execution_count": 11,
   "metadata": {
    "collapsed": false
   },
   "outputs": [
    {
     "data": {
      "text/html": [
       "&lt;Table masked=True length=17&gt;\n",
       "<table id=\"table4479726096\">\n",
       "<thead><tr><th>wave</th><th>Aki</th><th>Acc.</th><th>Ei           Ek</th><th>Lower level</th><th>Upper level</th><th>Type</th><th>TP</th><th>Line</th><th>RelInt</th><th>Ion</th></tr></thead>\n",
       "<thead><tr><th>float64</th><th>float64</th><th>int64</th><th>str25</th><th>str34</th><th>str34</th><th>str2</th><th>str5</th><th>str16</th><th>int64</th><th>str5</th></tr></thead>\n",
       "<tr><td>3021.504</td><td>50900000.0</td><td>--</td><td>44042.909    -  77129.372</td><td>5d10.6s.6p           | 3P*     | 2</td><td>5d10.6s.7d           | 3D      | 3</td><td>--</td><td>T3464</td><td>L7247</td><td>1200</td><td>HgI</td></tr>\n",
       "<tr><td>3125.674</td><td>65600000.0</td><td>--</td><td>39412.237    -  71396.073</td><td>5d10.6s.6p           | 3P*     | 1</td><td>5d10.6s.6d           | 3D      | 2</td><td>--</td><td>T3464</td><td>L7247</td><td>4000</td><td>HgI</td></tr>\n",
       "<tr><td>3131.555</td><td>--</td><td>--</td><td>39412.237    -  71336.005</td><td>5d10.6s.6p           | 3P*     | 1</td><td>5d10.6s.6d           | 3D      | 1</td><td>--</td><td>--</td><td>L7247</td><td>3000</td><td>HgI</td></tr>\n",
       "<tr><td>3131.844</td><td>--</td><td>--</td><td>39412.237    -  71333.053</td><td>5d10.6s.6p           | 3P*     | 1</td><td>5d10.6s.6d           | 1D      | 2</td><td>--</td><td>--</td><td>L7247</td><td>4000</td><td>HgI</td></tr>\n",
       "<tr><td>3650.158</td><td>130000000.0</td><td>--</td><td>44042.909    -  71431.180</td><td>5d10.6s.6p           | 3P*     | 2</td><td>5d10.6s.6d           | 3D      | 3</td><td>--</td><td>T3464</td><td>L7247</td><td>9000</td><td>HgI</td></tr>\n",
       "<tr><td>3654.842</td><td>18000000.0</td><td>--</td><td>44042.909    -  71396.073</td><td>5d10.6s.6p           | 3P*     | 2</td><td>5d10.6s.6d           | 3D      | 2</td><td>--</td><td>T3464</td><td>L7247</td><td>3000</td><td>HgI</td></tr>\n",
       "<tr><td>3663.284</td><td>--</td><td>--</td><td>44042.909    -  71333.053</td><td>5d10.6s.6p           | 3P*     | 2</td><td>5d10.6s.6d           | 1D      | 2</td><td>--</td><td>--</td><td>L7247</td><td>2000</td><td>HgI</td></tr>\n",
       "<tr><td>4046.565</td><td>21000000.0</td><td>--</td><td>37644.982    -  62350.325</td><td>5d10.6s.6p           | 3P*     | 0</td><td>5d10.6s.7s           | 3S      | 1</td><td>--</td><td>T3464</td><td>L7247</td><td>12000</td><td>HgI</td></tr>\n",
       "<tr><td>4077.837</td><td>4000000.0</td><td>--</td><td>39412.237    -  63928.120</td><td>5d10.6s.6p           | 3P*     | 1</td><td>5d10.6s.7s           | 1S      | 0</td><td>--</td><td>T3464</td><td>L7247</td><td>1000</td><td>HgI</td></tr>\n",
       "<tr><td>4358.335</td><td>55700000.0</td><td>--</td><td>39412.237    -  62350.325</td><td>5d10.6s.6p           | 3P*     | 1</td><td>5d10.6s.7s           | 3S      | 1</td><td>--</td><td>T3464</td><td>L7247</td><td>12000</td><td>HgI</td></tr>\n",
       "<tr><td>5460.75</td><td>48700000.0</td><td>--</td><td>44042.909    -  62350.325</td><td>5d10.6s.6p           | 3P*     | 2</td><td>5d10.6s.7s           | 3S      | 1</td><td>--</td><td>T3464</td><td>L7247</td><td>6000</td><td>HgI</td></tr>\n",
       "<tr><td>5769.61</td><td>23600000.0</td><td>--</td><td>54068.6829   -  71396.073</td><td>5d10.6s.6p           | 1P*     | 1</td><td>5d10.6s.6d           | 3D      | 2</td><td>--</td><td>T3464</td><td>L7247</td><td>1000</td><td>HgI</td></tr>\n",
       "<tr><td>5790.67</td><td>--</td><td>--</td><td>54068.6829   -  71333.053</td><td>5d10.6s.6p           | 1P*     | 1</td><td>5d10.6s.6d           | 1D      | 2</td><td>--</td><td>--</td><td>L7247</td><td>900</td><td>HgI</td></tr>\n",
       "<tr><td>6907.46</td><td>2800000.0</td><td>--</td><td>62350.325    -  76823.43</td><td>5d10.6s.7s           | 3S      | 1</td><td>5d10.6s.8p           | 3P*     | 2</td><td>--</td><td>T3464</td><td>L15184</td><td>1000</td><td>HgI</td></tr>\n",
       "<tr><td>7081.901</td><td>--</td><td>--</td><td>62350.325    -  76466.936</td><td>5d10.6s.7s           | 3S      | 1</td><td>5d10.6s.8p           | 3P*     | 1</td><td>--</td><td>--</td><td>L3499</td><td>1000</td><td>HgI</td></tr>\n",
       "<tr><td>10139.75</td><td>27100000.0</td><td>--</td><td>54068.6829   -  63928.120</td><td>5d10.6s.6p           | 1P*     | 1</td><td>5d10.6s.7s           | 1S      | 0</td><td>--</td><td>T3464</td><td>L7591</td><td>1600</td><td>HgI</td></tr>\n",
       "<tr><td>11287.1</td><td>--</td><td>--</td><td>62350.325    -  71207.296</td><td>5d10.6s.7s           | 3S      | 1</td><td>5d10.6s.7p           | 3P*     | 2</td><td>--</td><td>--</td><td>L7592</td><td>1000</td><td>HgI</td></tr>\n",
       "</table>"
      ],
      "text/plain": [
       "<Table masked=True length=17>\n",
       "  wave       Aki      Acc.      Ei           Ek      ...  Line  RelInt Ion \n",
       "float64    float64   int64           str25           ... str16  int64  str5\n",
       "-------- ----------- ----- ------------------------- ... ------ ------ ----\n",
       "3021.504  50900000.0    -- 44042.909    -  77129.372 ...  L7247   1200  HgI\n",
       "3125.674  65600000.0    -- 39412.237    -  71396.073 ...  L7247   4000  HgI\n",
       "3131.555          --    -- 39412.237    -  71336.005 ...  L7247   3000  HgI\n",
       "3131.844          --    -- 39412.237    -  71333.053 ...  L7247   4000  HgI\n",
       "3650.158 130000000.0    -- 44042.909    -  71431.180 ...  L7247   9000  HgI\n",
       "3654.842  18000000.0    -- 44042.909    -  71396.073 ...  L7247   3000  HgI\n",
       "3663.284          --    -- 44042.909    -  71333.053 ...  L7247   2000  HgI\n",
       "4046.565  21000000.0    -- 37644.982    -  62350.325 ...  L7247  12000  HgI\n",
       "4077.837   4000000.0    -- 39412.237    -  63928.120 ...  L7247   1000  HgI\n",
       "4358.335  55700000.0    -- 39412.237    -  62350.325 ...  L7247  12000  HgI\n",
       " 5460.75  48700000.0    -- 44042.909    -  62350.325 ...  L7247   6000  HgI\n",
       " 5769.61  23600000.0    -- 54068.6829   -  71396.073 ...  L7247   1000  HgI\n",
       " 5790.67          --    -- 54068.6829   -  71333.053 ...  L7247    900  HgI\n",
       " 6907.46   2800000.0    --  62350.325    -  76823.43 ... L15184   1000  HgI\n",
       "7081.901          --    -- 62350.325    -  76466.936 ...  L3499   1000  HgI\n",
       "10139.75  27100000.0    -- 54068.6829   -  63928.120 ...  L7591   1600  HgI\n",
       " 11287.1          --    -- 62350.325    -  71207.296 ...  L7592   1000  HgI"
      ]
     },
     "execution_count": 11,
     "metadata": {},
     "output_type": "execute_result"
    }
   ],
   "source": [
    "HgI[HgI['RelInt']>800]"
   ]
  },
  {
   "cell_type": "markdown",
   "metadata": {},
   "source": [
    "### HeI"
   ]
  },
  {
   "cell_type": "code",
   "execution_count": 12,
   "metadata": {
    "collapsed": false
   },
   "outputs": [],
   "source": [
    "reload(alines)\n",
    "HeI = alines.parse_nist(None,'HeI')"
   ]
  },
  {
   "cell_type": "code",
   "execution_count": 13,
   "metadata": {
    "collapsed": false
   },
   "outputs": [
    {
     "data": {
      "text/html": [
       "&lt;Table masked=True length=42&gt;\n",
       "<table id=\"table4479128464\">\n",
       "<thead><tr><th>wave</th><th>Aki</th><th>Acc.</th><th>Ei           Ek</th><th>Lower level</th><th>Upper level</th><th>Type</th><th>TP</th><th>Line</th><th>RelInt</th><th>Ion</th></tr></thead>\n",
       "<thead><tr><th>float64</th><th>float64</th><th>str3</th><th>str39</th><th>str21</th><th>str21</th><th>str2</th><th>str8</th><th>str9</th><th>int64</th><th>str5</th></tr></thead>\n",
       "<tr><td>3013.7</td><td>--</td><td>--</td><td>481301.5          -  514473.5</td><td>2p2    | 3P   | 0,1,2</td><td>2p.3d  | 3D*  | 1,2,3</td><td>--</td><td>--</td><td>L1786</td><td>40</td><td>HeI</td></tr>\n",
       "<tr><td>3187.745</td><td>5636100.0</td><td>AAA</td><td>[159855.9743297]   - [191217.049963]</td><td>1s.2s  | 3S   | 1</td><td>1s.4p  | 3P*  | 1</td><td>--</td><td>T8636c73</td><td>L14925c72</td><td>20</td><td>HeI</td></tr>\n",
       "<tr><td>3231.266</td><td>510150.0</td><td>AAA</td><td>[166277.440141]    - [197216.0895622]</td><td>1s.2s  | 1S   | 0</td><td>1s.10p | 1P*  | 1</td><td>--</td><td>T8636c73</td><td>L14924</td><td>0</td><td>HeI</td></tr>\n",
       "<tr><td>3258.275</td><td>696270.0</td><td>AAA</td><td>[166277.440141]    - [196959.6928160]</td><td>1s.2s  | 1S   | 0</td><td>1s.9p  | 1P*  | 1</td><td>--</td><td>T8636c73</td><td>L14924</td><td>1</td><td>HeI</td></tr>\n",
       "<tr><td>3554.415</td><td>36386.0</td><td>AAA</td><td>[169086.7664725]   - [197212.82712336]</td><td>1s.2p  | 3P*  | 2</td><td>1s.10d | 3D   | 1</td><td>--</td><td>T8636c73</td><td>L551</td><td>1</td><td>HeI</td></tr>\n",
       "<tr><td>3562.979</td><td>268680.0</td><td>AAA</td><td>[169086.7664725]   - [197145.2332580]</td><td>1s.2p  | 3P*  | 2</td><td>1s.10s | 3S   | 1</td><td>--</td><td>T8636c73</td><td>L366</td><td>0</td><td>HeI</td></tr>\n",
       "<tr><td>3587.27</td><td>50298.0</td><td>AAA</td><td>[169086.7664725]   - [196955.22825838]</td><td>1s.2p  | 3P*  | 2</td><td>1s.9d  | 3D   | 1</td><td>--</td><td>T8636c73</td><td>L551</td><td>1</td><td>HeI</td></tr>\n",
       "<tr><td>3613.643</td><td>3802200.0</td><td>AAA</td><td>[166277.440141]    - [193942.462294]</td><td>1s.2s  | 1S   | 0</td><td>1s.5p  | 1P*  | 1</td><td>--</td><td>T8636c73</td><td>L14925c72</td><td>3</td><td>HeI</td></tr>\n",
       "<tr><td>3651.99</td><td>541360.0</td><td>AAA</td><td>[169086.7664725]   - [196461.3618105]</td><td>1s.2p  | 3P*  | 2</td><td>1s.8s  | 3S   | 1</td><td>--</td><td>T8636c73</td><td>L366</td><td>1</td><td>HeI</td></tr>\n",
       "<tr><td>3705.005</td><td>109800.0</td><td>AAA</td><td>[169086.7664725]   - [196069.67648966]</td><td>1s.2p  | 3P*  | 2</td><td>1s.7d  | 3D   | 1</td><td>--</td><td>T8636c73</td><td>L14925c72</td><td>3</td><td>HeI</td></tr>\n",
       "<tr><td>...</td><td>...</td><td>...</td><td>...</td><td>...</td><td>...</td><td>...</td><td>...</td><td>...</td><td>...</td><td>...</td></tr>\n",
       "<tr><td>7281.349</td><td>18299000.0</td><td>AAA</td><td>[171134.896946]    - [184864.82932]</td><td>1s.2p  | 1P*  | 1</td><td>1s.3s  | 1S   | 0</td><td>--</td><td>T8636c73</td><td>L366</td><td>50</td><td>HeI</td></tr>\n",
       "<tr><td>9210.337</td><td>2268.5</td><td>AAA</td><td>[186101.5461767]   - [196955.946184774]</td><td>1s.3d  | 3D   | 3</td><td>1s.9f  | 3F*  | 2</td><td>--</td><td>T8636c73</td><td>L551</td><td>2</td><td>HeI</td></tr>\n",
       "<tr><td>9526.17</td><td>3383.4</td><td>AAA</td><td>[186101.5461767]   - [196596.080442094]</td><td>1s.3d  | 3D   | 3</td><td>1s.8f  | 3F*  | 2</td><td>--</td><td>T8636c73</td><td>L8200</td><td>3</td><td>HeI</td></tr>\n",
       "<tr><td>9529.27</td><td>589760.0</td><td>AAA</td><td>[186104.9666893]   - [196596.082092602]</td><td>1s.3d  | 1D   | 2</td><td>1s.8f  | 1F*  | 3</td><td>--</td><td>T8636c73</td><td>L366</td><td>1</td><td>HeI</td></tr>\n",
       "<tr><td>10027.73</td><td>5414.7</td><td>AAA</td><td>[186101.5461767]   - [196071.178729980]</td><td>1s.3d  | 3D   | 3</td><td>1s.7f  | 3F*  | 2</td><td>--</td><td>T8636c73</td><td>L8200</td><td>6</td><td>HeI</td></tr>\n",
       "<tr><td>10031.16</td><td>928920.0</td><td>AAA</td><td>[186104.9666893]   - [196071.181064965]</td><td>1s.3d  | 1D   | 2</td><td>1s.7f  | 1F*  | 3</td><td>--</td><td>T8636c73</td><td>L8200</td><td>2</td><td>HeI</td></tr>\n",
       "<tr><td>10912.92</td><td>9619.7</td><td>AAA</td><td>[186101.5461767]   - [195262.428373005]</td><td>1s.3d  | 3D   | 3</td><td>1s.6f  | 3F*  | 2</td><td>--</td><td>T8636c73</td><td>L7293</td><td>12</td><td>HeI</td></tr>\n",
       "<tr><td>10913.05</td><td>1818100.0</td><td>AAA</td><td>[186101.5928903]   - [195262.428373005]</td><td>1s.3d  | 3D   | 1</td><td>1s.6f  | 3F*  | 2</td><td>--</td><td>T8636c73</td><td>L885</td><td>9</td><td>HeI</td></tr>\n",
       "<tr><td>10917.1</td><td>1608300.0</td><td>AAA</td><td>[186104.9666893]   - [195262.431784358]</td><td>1s.3d  | 1D   | 2</td><td>1s.6f  | 1F*  | 3</td><td>--</td><td>T8636c73</td><td>L885</td><td>3</td><td>HeI</td></tr>\n",
       "<tr><td>11969.12</td><td>2608400.0</td><td>AAA</td><td>[185564.583895]    - [193917.15192855]</td><td>1s.3p  | 3P*  | 1</td><td>1s.5d  | 3D   | 2</td><td>--</td><td>T8636c73</td><td>L885</td><td>30</td><td>HeI</td></tr>\n",
       "</table>"
      ],
      "text/plain": [
       "<Table masked=True length=42>\n",
       "  wave      Aki     Acc. ...    Line   RelInt Ion \n",
       "float64   float64   str3 ...    str9   int64  str5\n",
       "-------- ---------- ---- ... --------- ------ ----\n",
       "  3013.7         --   -- ...     L1786     40  HeI\n",
       "3187.745  5636100.0  AAA ... L14925c72     20  HeI\n",
       "3231.266   510150.0  AAA ...    L14924      0  HeI\n",
       "3258.275   696270.0  AAA ...    L14924      1  HeI\n",
       "3554.415    36386.0  AAA ...      L551      1  HeI\n",
       "3562.979   268680.0  AAA ...      L366      0  HeI\n",
       " 3587.27    50298.0  AAA ...      L551      1  HeI\n",
       "3613.643  3802200.0  AAA ... L14925c72      3  HeI\n",
       " 3651.99   541360.0  AAA ...      L366      1  HeI\n",
       "3705.005   109800.0  AAA ... L14925c72      3  HeI\n",
       "     ...        ...  ... ...       ...    ...  ...\n",
       "7281.349 18299000.0  AAA ...      L366     50  HeI\n",
       "9210.337     2268.5  AAA ...      L551      2  HeI\n",
       " 9526.17     3383.4  AAA ...     L8200      3  HeI\n",
       " 9529.27   589760.0  AAA ...      L366      1  HeI\n",
       "10027.73     5414.7  AAA ...     L8200      6  HeI\n",
       "10031.16   928920.0  AAA ...     L8200      2  HeI\n",
       "10912.92     9619.7  AAA ...     L7293     12  HeI\n",
       "10913.05  1818100.0  AAA ...      L885      9  HeI\n",
       " 10917.1  1608300.0  AAA ...      L885      3  HeI\n",
       "11969.12  2608400.0  AAA ...      L885     30  HeI"
      ]
     },
     "execution_count": 13,
     "metadata": {},
     "output_type": "execute_result"
    }
   ],
   "source": [
    "HeI"
   ]
  },
  {
   "cell_type": "markdown",
   "metadata": {},
   "source": [
    "### NeI"
   ]
  },
  {
   "cell_type": "code",
   "execution_count": 14,
   "metadata": {
    "collapsed": false
   },
   "outputs": [],
   "source": [
    "reload(alines)\n",
    "NeI = alines.parse_nist(None,'NeI')"
   ]
  },
  {
   "cell_type": "code",
   "execution_count": 15,
   "metadata": {
    "collapsed": false
   },
   "outputs": [
    {
     "data": {
      "text/html": [
       "&lt;Table masked=True length=83&gt;\n",
       "<table id=\"table4479782032\">\n",
       "<thead><tr><th>wave</th><th>Aki</th><th>Acc.</th><th>Ei           Ek</th><th>Lower level</th><th>Upper level</th><th>Type</th><th>TP</th><th>Line</th><th>RelInt</th><th>Ion</th></tr></thead>\n",
       "<thead><tr><th>float64</th><th>float64</th><th>str2</th><th>str28</th><th>str35</th><th>str36</th><th>int64</th><th>str10</th><th>str5</th><th>int64</th><th>str5</th></tr></thead>\n",
       "<tr><td>5113.6724</td><td>1000000.0</td><td>D</td><td>148257.7898   -  167807.7649</td><td>2s2.2p5.(2P*&lt;3/2&gt;).3p | 2[1/2]  | 1</td><td>2s2.2p5.(2P*&lt;1/2&gt;).4d  | 2[3/2]* | 1</td><td>--</td><td>T8043</td><td>L3451</td><td>750</td><td>NeI</td></tr>\n",
       "<tr><td>5120.5059</td><td>560000.0</td><td>D</td><td>150772.1118   -  170296.0099</td><td>2s2.2p5.(2P*&lt;1/2&gt;).3p | 2[3/2]  | 1</td><td>2s2.2p5.(2P*&lt;1/2&gt;).5d  | 2[3/2]* | 1</td><td>--</td><td>T8043</td><td>L4498</td><td>250</td><td>NeI</td></tr>\n",
       "<tr><td>5154.4271</td><td>1900000.0</td><td>D</td><td>150121.5922   -  169516.9948</td><td>2s2.2p5.(2P*&lt;3/2&gt;).3p | 2[3/2]  | 1</td><td>2s2.2p5.(2P*&lt;3/2&gt;).5d  | 2[3/2]* | 1</td><td>--</td><td>T8043</td><td>L3451</td><td>500</td><td>NeI</td></tr>\n",
       "<tr><td>5191.3223</td><td>1300000.0</td><td>D</td><td>151038.4524   -  170296.0099</td><td>2s2.2p5.(2P*&lt;1/2&gt;).3p | 2[1/2]  | 1</td><td>2s2.2p5.(2P*&lt;1/2&gt;).5d  | 2[3/2]* | 1</td><td>--</td><td>T8043</td><td>L3451</td><td>350</td><td>NeI</td></tr>\n",
       "<tr><td>5326.396</td><td>680000.0</td><td>D</td><td>148257.7898   -  167026.9923</td><td>2s2.2p5.(2P*&lt;3/2&gt;).3p | 2[1/2]  | 1</td><td>2s2.2p5.(2P*&lt;3/2&gt;).4d  | 2[3/2]* | 1</td><td>--</td><td>T8043</td><td>L7292</td><td>750</td><td>NeI</td></tr>\n",
       "<tr><td>5333.3083</td><td>530000.0</td><td>D</td><td>150772.1118   -  169516.9948</td><td>2s2.2p5.(2P*&lt;1/2&gt;).3p | 2[3/2]  | 1</td><td>2s2.2p5.(2P*&lt;3/2&gt;).5d  | 2[3/2]* | 1</td><td>--</td><td>T8043</td><td>L4498</td><td>500</td><td>NeI</td></tr>\n",
       "<tr><td>5341.0938</td><td>11000000.0</td><td>D</td><td>148257.7898   -  166975.3424</td><td>2s2.2p5.(2P*&lt;3/2&gt;).3p | 2[1/2]  | 1</td><td>2s2.2p5.(2P*&lt;3/2&gt;).4d  | 2[1/2]* | 1</td><td>--</td><td>T8043</td><td>L3451</td><td>10000</td><td>NeI</td></tr>\n",
       "<tr><td>5400.5616</td><td>900000.0</td><td>B</td><td>134459.2871   -  152970.7328</td><td>2s2.2p5.(2P*&lt;3/2&gt;).3s | 2[3/2]* | 1</td><td>2s2.2p5.(2P*&lt;1/2&gt;).3p  | 2[1/2]  | 0</td><td>--</td><td>T8043</td><td>L3451</td><td>20000</td><td>NeI</td></tr>\n",
       "<tr><td>5418.5584</td><td>520000.0</td><td>D</td><td>151038.4524   -  169488.4193</td><td>2s2.2p5.(2P*&lt;1/2&gt;).3p | 2[1/2]  | 1</td><td>2s2.2p5.(2P*&lt;3/2&gt;).5d  | 2[1/2]* | 1</td><td>--</td><td>T8043</td><td>L3451</td><td>1500</td><td>NeI</td></tr>\n",
       "<tr><td>5433.6513</td><td>283000.0</td><td>B</td><td>148257.7898   -  166656.5114</td><td>2s2.2p5.(2P*&lt;3/2&gt;).3p | 2[1/2]  | 1</td><td>2s2.2p5.(2P*&lt;1/2&gt;).5s  | 2[1/2]* | 1</td><td>--</td><td>T8043</td><td>L3451</td><td>2500</td><td>NeI</td></tr>\n",
       "<tr><td>...</td><td>...</td><td>...</td><td>...</td><td>...</td><td>...</td><td>...</td><td>...</td><td>...</td><td>...</td><td>...</td></tr>\n",
       "<tr><td>8783.7539</td><td>31300000.0</td><td>C</td><td>151038.4524   -  162419.9818</td><td>2s2.2p5.(2P*&lt;1/2&gt;).3p | 2[1/2]  | 1</td><td>2s2.2p5.(2P*&lt;1/2&gt;).3d  | 2[3/2]* | 2</td><td>--</td><td>T8043</td><td>L3451</td><td>43000</td><td>NeI</td></tr>\n",
       "<tr><td>8865.3057</td><td>940000.0</td><td>D</td><td>148257.7898   -  159534.6196</td><td>2s2.2p5.(2P*&lt;3/2&gt;).3p | 2[1/2]  | 1</td><td>2s2.2p5.(2P*&lt;1/2&gt;).4s  | 2[1/2]* | 1</td><td>--</td><td>T8043</td><td>L3451</td><td>2100</td><td>NeI</td></tr>\n",
       "<tr><td>9201.7588</td><td>9100000.0</td><td>D</td><td>150772.1118   -  161636.6175</td><td>2s2.2p5.(2P*&lt;1/2&gt;).3p | 2[3/2]  | 1</td><td>2s2.2p5.(2P*&lt;3/2&gt;).3d  | 2[3/2]* | 1</td><td>--</td><td>T8043</td><td>L9097</td><td>8900</td><td>NeI</td></tr>\n",
       "<tr><td>9433.0082</td><td>110000.0</td><td>D</td><td>151038.4524   -  161636.6175</td><td>2s2.2p5.(2P*&lt;1/2&gt;).3p | 2[1/2]  | 1</td><td>2s2.2p5.(2P*&lt;3/2&gt;).3d  | 2[3/2]* | 1</td><td>--</td><td>T8043</td><td>L9097</td><td>66</td><td>NeI</td></tr>\n",
       "<tr><td>9486.6825</td><td>2500000.0</td><td>D</td><td>148257.7898   -  158795.9924</td><td>2s2.2p5.(2P*&lt;3/2&gt;).3p | 2[1/2]  | 1</td><td>2s2.2p5.(2P*&lt;3/2&gt;).4s  | 2[3/2]* | 1</td><td>--</td><td>T8043</td><td>L9097</td><td>5000</td><td>NeI</td></tr>\n",
       "<tr><td>9534.164</td><td>6300000.0</td><td>D</td><td>151038.4524   -  161524.1739</td><td>2s2.2p5.(2P*&lt;1/2&gt;).3p | 2[1/2]  | 1</td><td>2s2.2p5.(2P*&lt;3/2&gt;).3d  | 2[1/2]* | 1</td><td>--</td><td>T8043</td><td>L9097</td><td>6100</td><td>NeI</td></tr>\n",
       "<tr><td>10620.6637</td><td>240000.0</td><td>D</td><td>150121.5922   -  159534.6196</td><td>2s2.2p5.(2P*&lt;3/2&gt;).3p | 2[3/2]  | 1</td><td>2s2.2p5.(2P*&lt;1/2&gt;).4s  | 2[1/2]* | 1</td><td>--</td><td>T8043</td><td>L9097</td><td>780</td><td>NeI</td></tr>\n",
       "<tr><td>11409.1338</td><td>4200000.0</td><td>D</td><td>150772.1118   -  159534.6196</td><td>2s2.2p5.(2P*&lt;1/2&gt;).3p | 2[3/2]  | 1</td><td>2s2.2p5.(2P*&lt;1/2&gt;).4s  | 2[1/2]* | 1</td><td>--</td><td>T8043</td><td>L7433</td><td>8800</td><td>NeI</td></tr>\n",
       "<tr><td>11525.0203</td><td>8400000.0</td><td>D</td><td>150121.5922   -  158795.9924</td><td>2s2.2p5.(2P*&lt;3/2&gt;).3p | 2[3/2]  | 1</td><td>2s2.2p5.(2P*&lt;3/2&gt;).4s  | 2[3/2]* | 1</td><td>--</td><td>T8043</td><td>L9097</td><td>17000</td><td>NeI</td></tr>\n",
       "<tr><td>11766.7929</td><td>6900000.0</td><td>D</td><td>151038.4524   -  159534.6196</td><td>2s2.2p5.(2P*&lt;1/2&gt;).3p | 2[1/2]  | 1</td><td>2s2.2p5.(2P*&lt;1/2&gt;).4s  | 2[1/2]* | 1</td><td>--</td><td>T8043</td><td>L7433</td><td>15000</td><td>NeI</td></tr>\n",
       "</table>"
      ],
      "text/plain": [
       "<Table masked=True length=83>\n",
       "   wave       Aki     Acc.       Ei           Ek        ...  Line RelInt Ion \n",
       " float64    float64   str2            str28             ...  str5 int64  str5\n",
       "---------- ---------- ---- ---------------------------- ... ----- ------ ----\n",
       " 5113.6724  1000000.0    D 148257.7898   -  167807.7649 ... L3451    750  NeI\n",
       " 5120.5059   560000.0    D 150772.1118   -  170296.0099 ... L4498    250  NeI\n",
       " 5154.4271  1900000.0    D 150121.5922   -  169516.9948 ... L3451    500  NeI\n",
       " 5191.3223  1300000.0    D 151038.4524   -  170296.0099 ... L3451    350  NeI\n",
       "  5326.396   680000.0    D 148257.7898   -  167026.9923 ... L7292    750  NeI\n",
       " 5333.3083   530000.0    D 150772.1118   -  169516.9948 ... L4498    500  NeI\n",
       " 5341.0938 11000000.0    D 148257.7898   -  166975.3424 ... L3451  10000  NeI\n",
       " 5400.5616   900000.0    B 134459.2871   -  152970.7328 ... L3451  20000  NeI\n",
       " 5418.5584   520000.0    D 151038.4524   -  169488.4193 ... L3451   1500  NeI\n",
       " 5433.6513   283000.0    B 148257.7898   -  166656.5114 ... L3451   2500  NeI\n",
       "       ...        ...  ...                          ... ...   ...    ...  ...\n",
       " 8783.7539 31300000.0    C 151038.4524   -  162419.9818 ... L3451  43000  NeI\n",
       " 8865.3057   940000.0    D 148257.7898   -  159534.6196 ... L3451   2100  NeI\n",
       " 9201.7588  9100000.0    D 150772.1118   -  161636.6175 ... L9097   8900  NeI\n",
       " 9433.0082   110000.0    D 151038.4524   -  161636.6175 ... L9097     66  NeI\n",
       " 9486.6825  2500000.0    D 148257.7898   -  158795.9924 ... L9097   5000  NeI\n",
       "  9534.164  6300000.0    D 151038.4524   -  161524.1739 ... L9097   6100  NeI\n",
       "10620.6637   240000.0    D 150121.5922   -  159534.6196 ... L9097    780  NeI\n",
       "11409.1338  4200000.0    D 150772.1118   -  159534.6196 ... L7433   8800  NeI\n",
       "11525.0203  8400000.0    D 150121.5922   -  158795.9924 ... L9097  17000  NeI\n",
       "11766.7929  6900000.0    D 151038.4524   -  159534.6196 ... L7433  15000  NeI"
      ]
     },
     "execution_count": 15,
     "metadata": {},
     "output_type": "execute_result"
    }
   ],
   "source": [
    "NeI[NeI['Aki']>0.]"
   ]
  },
  {
   "cell_type": "markdown",
   "metadata": {},
   "source": [
    "### ArI"
   ]
  },
  {
   "cell_type": "code",
   "execution_count": 16,
   "metadata": {
    "collapsed": true
   },
   "outputs": [],
   "source": [
    "ArI = alines.parse_nist(None,'ArI')"
   ]
  },
  {
   "cell_type": "code",
   "execution_count": 17,
   "metadata": {
    "collapsed": false
   },
   "outputs": [
    {
     "data": {
      "text/html": [
       "&lt;Table masked=True length=119&gt;\n",
       "<table id=\"table4479129232\">\n",
       "<thead><tr><th>wave</th><th>Aki</th><th>Acc.</th><th>Ei           Ek</th><th>Lower level</th><th>Upper level</th><th>Type</th><th>TP</th><th>Line</th><th>RelInt</th><th>Ion</th></tr></thead>\n",
       "<thead><tr><th>float64</th><th>float64</th><th>str2</th><th>str28</th><th>str35</th><th>str36</th><th>int64</th><th>str13</th><th>str5</th><th>int64</th><th>str5</th></tr></thead>\n",
       "<tr><td>5151.391</td><td>2390000.0</td><td>C</td><td>104102.0990   -  123508.927</td><td>3s2.3p5.(2P*&lt;3/2&gt;).4p | 2[1/2]  | 1</td><td>3s2.3p5.(2P*&lt;3/2&gt;).6d  | 2[1/2]* | 0</td><td>--</td><td>T1218n</td><td>L2634</td><td>5</td><td>ArI</td></tr>\n",
       "<tr><td>5162.285</td><td>1900000.0</td><td>C</td><td>104102.0990   -  123467.9733</td><td>3s2.3p5.(2P*&lt;3/2&gt;).4p | 2[1/2]  | 1</td><td>3s2.3p5.(2P*&lt;3/2&gt;).6d  | 2[1/2]* | 1</td><td>--</td><td>T1218n</td><td>L2634</td><td>15</td><td>ArI</td></tr>\n",
       "<tr><td>5187.746</td><td>1380000.0</td><td>C</td><td>104102.0990   -  123372.9253</td><td>3s2.3p5.(2P*&lt;3/2&gt;).4p | 2[1/2]  | 1</td><td>3s2.3p5.(2P*&lt;1/2&gt;).5d  | 2[3/2]* | 2</td><td>--</td><td>T1218n,T1164n</td><td>L2634</td><td>20</td><td>ArI</td></tr>\n",
       "<tr><td>5221.271</td><td>880000.0</td><td>D</td><td>105462.7596   -  124609.856</td><td>3s2.3p5.(2P*&lt;3/2&gt;).4p | 2[5/2]  | 3</td><td>3s2.3p5.(2P*&lt;3/2&gt;).7d  | 2[7/2]* | 4</td><td>--</td><td>T1164n</td><td>L2634</td><td>7</td><td>ArI</td></tr>\n",
       "<tr><td>5421.352</td><td>600000.0</td><td>D</td><td>105462.7596   -  123903.220</td><td>3s2.3p5.(2P*&lt;3/2&gt;).4p | 2[5/2]  | 3</td><td>3s2.3p5.(2P*&lt;3/2&gt;).8s  | 2[3/2]* | 2</td><td>--</td><td>T1164n</td><td>L2634</td><td>5</td><td>ArI</td></tr>\n",
       "<tr><td>5451.652</td><td>470000.0</td><td>D+</td><td>104102.0990   -  122440.0672</td><td>3s2.3p5.(2P*&lt;3/2&gt;).4p | 2[1/2]  | 1</td><td>3s2.3p5.(2P*&lt;3/2&gt;).7s  | 2[3/2]* | 2</td><td>--</td><td>T1218n</td><td>L2634</td><td>10</td><td>ArI</td></tr>\n",
       "<tr><td>5495.874</td><td>1690000.0</td><td>C</td><td>105462.7596   -  123653.177</td><td>3s2.3p5.(2P*&lt;3/2&gt;).4p | 2[5/2]  | 3</td><td>3s2.3p5.(2P*&lt;3/2&gt;).6d  | 2[7/2]* | 4</td><td>--</td><td>T1218n</td><td>L2634</td><td>25</td><td>ArI</td></tr>\n",
       "<tr><td>5506.113</td><td>360000.0</td><td>D+</td><td>105617.2700   -  123773.8614</td><td>3s2.3p5.(2P*&lt;3/2&gt;).4p | 2[5/2]  | 2</td><td>3s2.3p5.(2P*&lt;3/2&gt;).6d  | 2[7/2]* | 3</td><td>--</td><td>T1218n</td><td>L2634</td><td>5</td><td>ArI</td></tr>\n",
       "<tr><td>5558.702</td><td>1420000.0</td><td>C</td><td>104102.0990   -  122086.9164</td><td>3s2.3p5.(2P*&lt;3/2&gt;).4p | 2[1/2]  | 1</td><td>3s2.3p5.(2P*&lt;3/2&gt;).5d  | 2[3/2]* | 2</td><td>--</td><td>T1218n</td><td>L2634</td><td>25</td><td>ArI</td></tr>\n",
       "<tr><td>5572.541</td><td>660000.0</td><td>C</td><td>105617.2700   -  123557.4227</td><td>3s2.3p5.(2P*&lt;3/2&gt;).4p | 2[5/2]  | 2</td><td>3s2.3p5.(2P*&lt;1/2&gt;).5d  | 2[5/2]* | 3</td><td>--</td><td>T1218n</td><td>L2634</td><td>10</td><td>ArI</td></tr>\n",
       "<tr><td>...</td><td>...</td><td>...</td><td>...</td><td>...</td><td>...</td><td>...</td><td>...</td><td>...</td><td>...</td><td>...</td></tr>\n",
       "<tr><td>10673.565</td><td>4900000.0</td><td>D</td><td>104102.0990   -  113468.473</td><td>3s2.3p5.(2P*&lt;3/2&gt;).4p | 2[1/2]  | 1</td><td>3s2.3p5.(2P*&lt;3/2&gt;).5s  | 2[3/2]* | 2</td><td>--</td><td>T1372</td><td>L2634</td><td>200</td><td>ArI</td></tr>\n",
       "<tr><td>10681.773</td><td>--</td><td>--</td><td>--</td><td>|         |</td><td>|         |</td><td>--</td><td>--</td><td>L2634</td><td>11</td><td>ArI</td></tr>\n",
       "<tr><td>10733.87</td><td>--</td><td>--</td><td>--</td><td>|         |</td><td>|         |</td><td>--</td><td>--</td><td>L2131</td><td>30</td><td>ArI</td></tr>\n",
       "<tr><td>10759.16</td><td>--</td><td>--</td><td>--</td><td>|         |</td><td>|         |</td><td>--</td><td>--</td><td>L2131</td><td>30</td><td>ArI</td></tr>\n",
       "<tr><td>11078.869</td><td>830000.0</td><td>C</td><td>105617.2700   -  114640.992</td><td>3s2.3p5.(2P*&lt;3/2&gt;).4p | 2[5/2]  | 2</td><td>3s2.3p5.(2P*&lt;1/2&gt;).3d  | 2[5/2]* | 2</td><td>--</td><td>T1618n</td><td>L2634</td><td>11</td><td>ArI</td></tr>\n",
       "<tr><td>11106.46</td><td>--</td><td>--</td><td>--</td><td>|         |</td><td>|         |</td><td>--</td><td>--</td><td>L2131</td><td>30</td><td>ArI</td></tr>\n",
       "<tr><td>11441.832</td><td>1390000.0</td><td>C</td><td>106237.5518   -  114975.019</td><td>3s2.3p5.(2P*&lt;3/2&gt;).4p | 2[3/2]  | 2</td><td>3s2.3p5.(2P*&lt;1/2&gt;).5s  | 2[1/2]* | 1</td><td>--</td><td>T1618n</td><td>L2634</td><td>12</td><td>ArI</td></tr>\n",
       "<tr><td>11488.109</td><td>190000.0</td><td>C</td><td>95399.8276   -  104102.0990</td><td>3s2.3p5.(2P*&lt;1/2&gt;).4s | 2[1/2]* | 1</td><td>3s2.3p5.(2P*&lt;3/2&gt;).4p  | 2[1/2]  | 1</td><td>--</td><td>T1242n</td><td>L2634</td><td>400</td><td>ArI</td></tr>\n",
       "<tr><td>11668.71</td><td>3760000.0</td><td>C</td><td>106237.5518   -  114805.135</td><td>3s2.3p5.(2P*&lt;3/2&gt;).4p | 2[3/2]  | 2</td><td>3s2.3p5.(2P*&lt;1/2&gt;).3d  | 2[3/2]* | 2</td><td>--</td><td>T1618n</td><td>L2634</td><td>200</td><td>ArI</td></tr>\n",
       "<tr><td>11719.488</td><td>952000.0</td><td>C</td><td>105617.2700   -  114147.732</td><td>3s2.3p5.(2P*&lt;3/2&gt;).4p | 2[5/2]  | 2</td><td>3s2.3p5.(2P*&lt;3/2&gt;).3d  | 2[3/2]* | 1</td><td>--</td><td>T1618n</td><td>L2634</td><td>12</td><td>ArI</td></tr>\n",
       "</table>"
      ],
      "text/plain": [
       "<Table masked=True length=119>\n",
       "   wave      Aki    Acc.       Ei           Ek        ...  Line RelInt Ion \n",
       " float64   float64  str2            str28             ...  str5 int64  str5\n",
       "--------- --------- ---- ---------------------------- ... ----- ------ ----\n",
       " 5151.391 2390000.0    C  104102.0990   -  123508.927 ... L2634      5  ArI\n",
       " 5162.285 1900000.0    C 104102.0990   -  123467.9733 ... L2634     15  ArI\n",
       " 5187.746 1380000.0    C 104102.0990   -  123372.9253 ... L2634     20  ArI\n",
       " 5221.271  880000.0    D  105462.7596   -  124609.856 ... L2634      7  ArI\n",
       " 5421.352  600000.0    D  105462.7596   -  123903.220 ... L2634      5  ArI\n",
       " 5451.652  470000.0   D+ 104102.0990   -  122440.0672 ... L2634     10  ArI\n",
       " 5495.874 1690000.0    C  105462.7596   -  123653.177 ... L2634     25  ArI\n",
       " 5506.113  360000.0   D+ 105617.2700   -  123773.8614 ... L2634      5  ArI\n",
       " 5558.702 1420000.0    C 104102.0990   -  122086.9164 ... L2634     25  ArI\n",
       " 5572.541  660000.0    C 105617.2700   -  123557.4227 ... L2634     10  ArI\n",
       "      ...       ...  ...                          ... ...   ...    ...  ...\n",
       "10673.565 4900000.0    D  104102.0990   -  113468.473 ... L2634    200  ArI\n",
       "10681.773        --   --                           -- ... L2634     11  ArI\n",
       " 10733.87        --   --                           -- ... L2131     30  ArI\n",
       " 10759.16        --   --                           -- ... L2131     30  ArI\n",
       "11078.869  830000.0    C  105617.2700   -  114640.992 ... L2634     11  ArI\n",
       " 11106.46        --   --                           -- ... L2131     30  ArI\n",
       "11441.832 1390000.0    C  106237.5518   -  114975.019 ... L2634     12  ArI\n",
       "11488.109  190000.0    C  95399.8276   -  104102.0990 ... L2634    400  ArI\n",
       " 11668.71 3760000.0    C  106237.5518   -  114805.135 ... L2634    200  ArI\n",
       "11719.488  952000.0    C  105617.2700   -  114147.732 ... L2634     12  ArI"
      ]
     },
     "execution_count": 17,
     "metadata": {},
     "output_type": "execute_result"
    }
   ],
   "source": [
    "ArI"
   ]
  },
  {
   "cell_type": "markdown",
   "metadata": {},
   "source": [
    "## KrI\n",
    "\n",
    "  * Retrieve data (Kr I, 4000., 12000. Ang, Format = ASCII\n",
    "  * Comment out the ---- lines\n",
    "  * Add comment at start"
   ]
  },
  {
   "cell_type": "code",
   "execution_count": 12,
   "metadata": {
    "collapsed": false
   },
   "outputs": [],
   "source": [
    "reload(alines)\n",
    "KrI = alines.parse_nist(None,'KrI')"
   ]
  },
  {
   "cell_type": "code",
   "execution_count": 13,
   "metadata": {
    "collapsed": false
   },
   "outputs": [
    {
     "data": {
      "text/html": [
       "&lt;Table masked=True length=459&gt;\n",
       "<table id=\"table4552085456\">\n",
       "<thead><tr><th>wave</th><th>Aki</th><th>Acc.</th><th>Ei           Ek</th><th>Lower level</th><th>Upper level</th><th>Type</th><th>TP</th><th>Line</th><th>RelInt</th><th>Ion</th></tr></thead>\n",
       "<thead><tr><th>float64</th><th>float64</th><th>str1</th><th>str27</th><th>str35</th><th>str36</th><th>str2</th><th>str5</th><th>str7</th><th>int64</th><th>str5</th></tr></thead>\n",
       "<tr><td>4000.72</td><td>--</td><td>--</td><td>85191.6166   -  110180.08</td><td>4s2.4p5.(2P*&lt;1/2&gt;).5s | 2[1/2]* | 0</td><td>4s2.4p5.(2P*&lt;3/2&gt;).9p  | 2[1/2]  | 1</td><td>--</td><td>--</td><td>L7408</td><td>2</td><td>KrI</td></tr>\n",
       "<tr><td>4028.03</td><td>--</td><td>--</td><td>85846.7046   -  110665.75</td><td>4s2.4p5.(2P*&lt;1/2&gt;).5s | 2[1/2]* | 1</td><td>4s2.4p5.(2P*&lt;3/2&gt;).7f  | 2[5/2]  | 2</td><td>--</td><td>--</td><td>L7408</td><td>1</td><td>KrI</td></tr>\n",
       "<tr><td>4029.66</td><td>--</td><td>--</td><td>85846.7046   -  110655.45</td><td>4s2.4p5.(2P*&lt;1/2&gt;).5s | 2[1/2]* | 1</td><td>4s2.4p5.(2P*&lt;3/2&gt;).7f  | 2[3/2]  | 1</td><td>--</td><td>--</td><td>L7408</td><td>2</td><td>KrI</td></tr>\n",
       "<tr><td>4056.57</td><td>--</td><td>--</td><td>85191.6166   -  109836.15</td><td>4s2.4p5.(2P*&lt;1/2&gt;).5s | 2[1/2]* | 0</td><td>4s2.4p5.(2P*&lt;3/2&gt;).6f  | 2[3/2]  | 1</td><td>--</td><td>--</td><td>L7408</td><td>3</td><td>KrI</td></tr>\n",
       "<tr><td>4086.9</td><td>--</td><td>--</td><td>85846.7046   -  110308.14</td><td>4s2.4p5.(2P*&lt;1/2&gt;).5s | 2[1/2]* | 1</td><td>4s2.4p5.(2P*&lt;3/2&gt;).9p  | 2[1/2]  | 0</td><td>--</td><td>--</td><td>L7408</td><td>2</td><td>KrI</td></tr>\n",
       "<tr><td>4097.84</td><td>--</td><td>--</td><td>85846.7046   -  110242.83</td><td>4s2.4p5.(2P*&lt;1/2&gt;).5s | 2[1/2]* | 1</td><td>4s2.4p5.(2P*&lt;3/2&gt;).9p  | 2[3/2]  | 2</td><td>--</td><td>--</td><td>L7408</td><td>1</td><td>KrI</td></tr>\n",
       "<tr><td>4108.43</td><td>--</td><td>--</td><td>85846.7046   -  110180.08</td><td>4s2.4p5.(2P*&lt;1/2&gt;).5s | 2[1/2]* | 1</td><td>4s2.4p5.(2P*&lt;3/2&gt;).9p  | 2[1/2]  | 1</td><td>--</td><td>--</td><td>L7408</td><td>3</td><td>KrI</td></tr>\n",
       "<tr><td>4164.48</td><td>--</td><td>--</td><td>85846.7046   -  109852.76</td><td>4s2.4p5.(2P*&lt;1/2&gt;).5s | 2[1/2]* | 1</td><td>4s2.4p5.(2P*&lt;3/2&gt;).6f  | 2[5/2]  | 2</td><td>--</td><td>--</td><td>L7408</td><td>2</td><td>KrI</td></tr>\n",
       "<tr><td>4167.28</td><td>--</td><td>--</td><td>85846.7046   -  109836.15</td><td>4s2.4p5.(2P*&lt;1/2&gt;).5s | 2[1/2]* | 1</td><td>4s2.4p5.(2P*&lt;3/2&gt;).6f  | 2[3/2]  | 1</td><td>--</td><td>--</td><td>L7408</td><td>0</td><td>KrI</td></tr>\n",
       "<tr><td>4172.83</td><td>--</td><td>--</td><td>85191.6166   -  109149.694</td><td>4s2.4p5.(2P*&lt;1/2&gt;).5s | 2[1/2]* | 0</td><td>4s2.4p5.(2P*&lt;3/2&gt;).8p  | 2[3/2]  | 1</td><td>--</td><td>--</td><td>L7408</td><td>3</td><td>KrI</td></tr>\n",
       "<tr><td>...</td><td>...</td><td>...</td><td>...</td><td>...</td><td>...</td><td>...</td><td>...</td><td>...</td><td>...</td><td>...</td></tr>\n",
       "<tr><td>11328.51</td><td>--</td><td>--</td><td>99646.212    -  108471.1277</td><td>4s2.4p5.(2P*&lt;3/2&gt;).4d | 2[3/2]* | 1</td><td>4s2.4p5.(2P*&lt;3/2&gt;).5f  | 2[3/2]  | 2</td><td>--</td><td>--</td><td>L7293</td><td>4</td><td>KrI</td></tr>\n",
       "<tr><td>11333.44</td><td>--</td><td>--</td><td>98855.0698   -  107676.1489</td><td>4s2.4p5.(2P*&lt;1/2&gt;).5p | 2[1/2]  | 0</td><td>4s2.4p5.(2P*&lt;3/2&gt;).6d  | 2[1/2]* | 1</td><td>--</td><td>--</td><td>L7293</td><td>1</td><td>KrI</td></tr>\n",
       "<tr><td>11457.477</td><td>--</td><td>--</td><td>91168.5150   -   99894.0485</td><td>4s2.4p5.(2P*&lt;3/2&gt;).5p | 2[1/2]  | 1</td><td>4s2.4p5.(2P*&lt;3/2&gt;).6s  | 2[3/2]* | 1</td><td>--</td><td>--</td><td>L9760</td><td>220</td><td>KrI</td></tr>\n",
       "<tr><td>11611.6</td><td>--</td><td>--</td><td>99894.0485   -  108503.871</td><td>4s2.4p5.(2P*&lt;3/2&gt;).6s | 2[3/2]* | 1</td><td>4s2.4p5.(2P*&lt;3/2&gt;).5f  | 2[5/2]  | 2</td><td>--</td><td>--</td><td>L7293</td><td>1</td><td>KrI</td></tr>\n",
       "<tr><td>11655.8</td><td>--</td><td>--</td><td>99894.0485   -  108471.1277</td><td>4s2.4p5.(2P*&lt;3/2&gt;).6s | 2[3/2]* | 1</td><td>4s2.4p5.(2P*&lt;3/2&gt;).5f  | 2[3/2]  | 2</td><td>--</td><td>--</td><td>L7293</td><td>1</td><td>KrI</td></tr>\n",
       "<tr><td>11792.41</td><td>--</td><td>--</td><td>91168.5150   -   99646.212</td><td>4s2.4p5.(2P*&lt;3/2&gt;).5p | 2[1/2]  | 1</td><td>4s2.4p5.(2P*&lt;3/2&gt;).4d  | 2[3/2]* | 1</td><td>--</td><td>--</td><td>L125</td><td>140</td><td>KrI</td></tr>\n",
       "<tr><td>11819.3785</td><td>--</td><td>--</td><td>91168.5150   -   99626.882</td><td>4s2.4p5.(2P*&lt;3/2&gt;).5p | 2[1/2]  | 1</td><td>4s2.4p5.(2P*&lt;3/2&gt;).6s  | 2[3/2]* | 2</td><td>--</td><td>--</td><td>L4205c2</td><td>1800</td><td>KrI</td></tr>\n",
       "<tr><td>11967.182</td><td>--</td><td>--</td><td>98867.429    -  107221.333</td><td>4s2.4p5.(2P*&lt;3/2&gt;).4d | 2[5/2]* | 2</td><td>4s2.4p5.(2P*&lt;3/2&gt;).7p  | 2[3/2]  | 1</td><td>--</td><td>--</td><td>L9760</td><td>2</td><td>KrI</td></tr>\n",
       "<tr><td>11996.0</td><td>--</td><td>--</td><td>97687.779    -  106021.607</td><td>4s2.4p5.(2P*&lt;3/2&gt;).4d | 2[3/2]* | 2</td><td>4s2.4p5.(2P*&lt;3/2&gt;).4f  | 2[5/2]  | 2</td><td>--</td><td>--</td><td>L125</td><td>32</td><td>KrI</td></tr>\n",
       "<tr><td>11997.102</td><td>--</td><td>--</td><td>97687.779    -  106020.843</td><td>4s2.4p5.(2P*&lt;3/2&gt;).4d | 2[3/2]* | 2</td><td>4s2.4p5.(2P*&lt;3/2&gt;).4f  | 2[5/2]  | 3</td><td>--</td><td>--</td><td>L9760</td><td>350</td><td>KrI</td></tr>\n",
       "</table>"
      ],
      "text/plain": [
       "<Table masked=True length=459>\n",
       "   wave      Aki   Acc.       Ei           Ek       ...  TP    Line  RelInt Ion \n",
       " float64   float64 str1            str27            ... str5   str7  int64  str5\n",
       "---------- ------- ---- --------------------------- ... ---- ------- ------ ----\n",
       "   4000.72      --   --   85191.6166   -  110180.08 ...   --   L7408      2  KrI\n",
       "   4028.03      --   --   85846.7046   -  110665.75 ...   --   L7408      1  KrI\n",
       "   4029.66      --   --   85846.7046   -  110655.45 ...   --   L7408      2  KrI\n",
       "   4056.57      --   --   85191.6166   -  109836.15 ...   --   L7408      3  KrI\n",
       "    4086.9      --   --   85846.7046   -  110308.14 ...   --   L7408      2  KrI\n",
       "   4097.84      --   --   85846.7046   -  110242.83 ...   --   L7408      1  KrI\n",
       "   4108.43      --   --   85846.7046   -  110180.08 ...   --   L7408      3  KrI\n",
       "   4164.48      --   --   85846.7046   -  109852.76 ...   --   L7408      2  KrI\n",
       "   4167.28      --   --   85846.7046   -  109836.15 ...   --   L7408      0  KrI\n",
       "   4172.83      --   --  85191.6166   -  109149.694 ...   --   L7408      3  KrI\n",
       "       ...     ...  ...                         ... ...  ...     ...    ...  ...\n",
       "  11328.51      --   -- 99646.212    -  108471.1277 ...   --   L7293      4  KrI\n",
       "  11333.44      --   -- 98855.0698   -  107676.1489 ...   --   L7293      1  KrI\n",
       " 11457.477      --   -- 91168.5150   -   99894.0485 ...   --   L9760    220  KrI\n",
       "   11611.6      --   --  99894.0485   -  108503.871 ...   --   L7293      1  KrI\n",
       "   11655.8      --   -- 99894.0485   -  108471.1277 ...   --   L7293      1  KrI\n",
       "  11792.41      --   --  91168.5150   -   99646.212 ...   --    L125    140  KrI\n",
       "11819.3785      --   --  91168.5150   -   99626.882 ...   -- L4205c2   1800  KrI\n",
       " 11967.182      --   --  98867.429    -  107221.333 ...   --   L9760      2  KrI\n",
       "   11996.0      --   --  97687.779    -  106021.607 ...   --    L125     32  KrI\n",
       " 11997.102      --   --  97687.779    -  106020.843 ...   --   L9760    350  KrI"
      ]
     },
     "execution_count": 13,
     "metadata": {},
     "output_type": "execute_result"
    }
   ],
   "source": [
    "KrI"
   ]
  },
  {
   "cell_type": "markdown",
   "metadata": {},
   "source": [
    "## XeI\n",
    "\n",
    "  * Retrieve data (Xe I, 4000., 12000. Ang, Format = ASCII, min intensity=1000)\n",
    "  * Comment out the ---- lines\n",
    "  * Add comment at start"
   ]
  },
  {
   "cell_type": "markdown",
   "metadata": {},
   "source": [
    "## Rejecting lines"
   ]
  },
  {
   "cell_type": "code",
   "execution_count": 18,
   "metadata": {
    "collapsed": true
   },
   "outputs": [],
   "source": [
    "# Read yaml\n",
    "with open('rejected_lines.yaml', 'r') as infile:\n",
    "    rej_lines = yaml.load(infile)"
   ]
  },
  {
   "cell_type": "code",
   "execution_count": 19,
   "metadata": {
    "collapsed": false
   },
   "outputs": [
    {
     "data": {
      "text/plain": [
       "{'ArI': {8014.786: {'kast_red': '600/7500'}},\n",
       " 'CdI': {3252.524: {'lris_blue': 'all'}},\n",
       " 'HgI': {3131.555: 'all', 3131.844: 'all', 3654.842: 'all'},\n",
       " 'ZnI': {3345.57: 'all'}}"
      ]
     },
     "execution_count": 19,
     "metadata": {},
     "output_type": "execute_result"
    }
   ],
   "source": [
    "rej_lines"
   ]
  },
  {
   "cell_type": "code",
   "execution_count": 20,
   "metadata": {
    "collapsed": false
   },
   "outputs": [
    {
     "data": {
      "text/plain": [
       "['lris_blue']"
      ]
     },
     "execution_count": 20,
     "metadata": {},
     "output_type": "execute_result"
    }
   ],
   "source": [
    "rej_lines['CdI'][3252.524].keys()#['lris_blue'])"
   ]
  },
  {
   "cell_type": "markdown",
   "metadata": {},
   "source": [
    "## Load a full line list"
   ]
  },
  {
   "cell_type": "code",
   "execution_count": 19,
   "metadata": {
    "collapsed": false
   },
   "outputs": [
    {
     "name": "stderr",
     "output_type": "stream",
     "text": [
      "\u001b[1;32m[INFO]    ::\u001b[0m Rejecting select CdI lines\n",
      "\u001b[1;32m[INFO]    ::\u001b[0m Rejecting select ArI lines\n",
      "\u001b[1;32m[INFO]    ::\u001b[0m Rejecting select NeI lines\n",
      "\u001b[1;32m[INFO]    ::\u001b[0m Rejecting select HgI lines\n"
     ]
    }
   ],
   "source": [
    "reload(alines)\n",
    "#alist = alines.load_arcline_list(None,['ZnI','CdI','HgI'])\n",
    "alist = alines.load_arcline_list(None,None,['CdI','ArI','NeI','HgI','KrI','XeI'],None)"
   ]
  },
  {
   "cell_type": "code",
   "execution_count": 20,
   "metadata": {
    "collapsed": false
   },
   "outputs": [
    {
     "data": {
      "text/plain": [
       "178"
      ]
     },
     "execution_count": 20,
     "metadata": {},
     "output_type": "execute_result"
    }
   ],
   "source": [
    "len(alist)"
   ]
  },
  {
   "cell_type": "code",
   "execution_count": 25,
   "metadata": {
    "collapsed": false
   },
   "outputs": [
    {
     "data": {
      "text/html": [
       "&lt;Table masked=True length=18&gt;\n",
       "<table id=\"table4481380752\">\n",
       "<thead><tr><th>Ion</th><th>wave</th><th>RelInt</th></tr></thead>\n",
       "<thead><tr><th>str5</th><th>float64</th><th>int64</th></tr></thead>\n",
       "<tr><td>ArI</td><td>7723.761</td><td>15000</td></tr>\n",
       "<tr><td>ArI</td><td>7724.207</td><td>10000</td></tr>\n",
       "<tr><td>ArI</td><td>7948.176</td><td>20000</td></tr>\n",
       "<tr><td>ArI</td><td>8006.157</td><td>20000</td></tr>\n",
       "<tr><td>ArI</td><td>8014.786</td><td>25000</td></tr>\n",
       "<tr><td>ArI</td><td>8103.693</td><td>20000</td></tr>\n",
       "<tr><td>ArI</td><td>8115.311</td><td>35000</td></tr>\n",
       "<tr><td>ArI</td><td>8264.522</td><td>10000</td></tr>\n",
       "<tr><td>ArI</td><td>8408.21</td><td>15000</td></tr>\n",
       "<tr><td>ArI</td><td>8424.648</td><td>20000</td></tr>\n",
       "<tr><td>ArI</td><td>8521.442</td><td>15000</td></tr>\n",
       "<tr><td>ArI</td><td>8667.944</td><td>4500</td></tr>\n",
       "<tr><td>ArI</td><td>9122.967</td><td>35000</td></tr>\n",
       "<tr><td>ArI</td><td>9224.499</td><td>15000</td></tr>\n",
       "<tr><td>ArI</td><td>9354.22</td><td>1600</td></tr>\n",
       "<tr><td>ArI</td><td>9657.786</td><td>25000</td></tr>\n",
       "<tr><td>ArI</td><td>9784.503</td><td>4500</td></tr>\n",
       "<tr><td>ArI</td><td>10470.054</td><td>1600</td></tr>\n",
       "</table>"
      ],
      "text/plain": [
       "<Table masked=True length=18>\n",
       "Ion     wave   RelInt\n",
       "str5  float64  int64 \n",
       "---- --------- ------\n",
       " ArI  7723.761  15000\n",
       " ArI  7724.207  10000\n",
       " ArI  7948.176  20000\n",
       " ArI  8006.157  20000\n",
       " ArI  8014.786  25000\n",
       " ArI  8103.693  20000\n",
       " ArI  8115.311  35000\n",
       " ArI  8264.522  10000\n",
       " ArI   8408.21  15000\n",
       " ArI  8424.648  20000\n",
       " ArI  8521.442  15000\n",
       " ArI  8667.944   4500\n",
       " ArI  9122.967  35000\n",
       " ArI  9224.499  15000\n",
       " ArI   9354.22   1600\n",
       " ArI  9657.786  25000\n",
       " ArI  9784.503   4500\n",
       " ArI 10470.054   1600"
      ]
     },
     "execution_count": 25,
     "metadata": {},
     "output_type": "execute_result"
    }
   ],
   "source": [
    "alist[(alist['Ion']=='ArI') & (alist['wave'] > 7700)]"
   ]
  },
  {
   "cell_type": "code",
   "execution_count": 108,
   "metadata": {
    "collapsed": false
   },
   "outputs": [
    {
     "data": {
      "text/html": [
       "&lt;Table masked=True length=15&gt;\n",
       "<table id=\"table4510148176\">\n",
       "<thead><tr><th>Ion</th><th>Wave</th><th>RelInt</th></tr></thead>\n",
       "<thead><tr><th>str5</th><th>float64</th><th>int64</th></tr></thead>\n",
       "<tr><td>HeI</td><td>3013.7</td><td>40</td></tr>\n",
       "<tr><td>HeI</td><td>3187.745</td><td>20</td></tr>\n",
       "<tr><td>HeI</td><td>3888.648</td><td>500</td></tr>\n",
       "<tr><td>HeI</td><td>3964.7291</td><td>20</td></tr>\n",
       "<tr><td>HeI</td><td>4026.1914</td><td>50</td></tr>\n",
       "<tr><td>HeI</td><td>4471.4802</td><td>200</td></tr>\n",
       "<tr><td>HeI</td><td>4713.1457</td><td>30</td></tr>\n",
       "<tr><td>HeI</td><td>4921.9313</td><td>20</td></tr>\n",
       "<tr><td>HeI</td><td>5015.6783</td><td>100</td></tr>\n",
       "<tr><td>HeI</td><td>5875.621</td><td>500</td></tr>\n",
       "<tr><td>HeI</td><td>6678.151</td><td>100</td></tr>\n",
       "<tr><td>HeI</td><td>7065.19</td><td>200</td></tr>\n",
       "<tr><td>HeI</td><td>7065.71</td><td>30</td></tr>\n",
       "<tr><td>HeI</td><td>7281.349</td><td>50</td></tr>\n",
       "<tr><td>HeI</td><td>11969.12</td><td>30</td></tr>\n",
       "</table>"
      ],
      "text/plain": [
       "<Table masked=True length=15>\n",
       "Ion     Wave   RelInt\n",
       "str5  float64  int64 \n",
       "---- --------- ------\n",
       " HeI    3013.7     40\n",
       " HeI  3187.745     20\n",
       " HeI  3888.648    500\n",
       " HeI 3964.7291     20\n",
       " HeI 4026.1914     50\n",
       " HeI 4471.4802    200\n",
       " HeI 4713.1457     30\n",
       " HeI 4921.9313     20\n",
       " HeI 5015.6783    100\n",
       " HeI  5875.621    500\n",
       " HeI  6678.151    100\n",
       " HeI   7065.19    200\n",
       " HeI   7065.71     30\n",
       " HeI  7281.349     50\n",
       " HeI  11969.12     30"
      ]
     },
     "execution_count": 108,
     "metadata": {},
     "output_type": "execute_result"
    }
   ],
   "source": [
    "alist[alist['Ion']=='HeI']"
   ]
  },
  {
   "cell_type": "code",
   "execution_count": 18,
   "metadata": {
    "collapsed": false
   },
   "outputs": [
    {
     "data": {
      "text/html": [
       "&lt;Table masked=True length=31&gt;\n",
       "<table id=\"table4552518480\">\n",
       "<thead><tr><th>Ion</th><th>wave</th><th>RelInt</th></tr></thead>\n",
       "<thead><tr><th>str5</th><th>float64</th><th>int64</th></tr></thead>\n",
       "<tr><td>KrI</td><td>4273.96943</td><td>1000</td></tr>\n",
       "<tr><td>KrI</td><td>4351.35969</td><td>100</td></tr>\n",
       "<tr><td>KrI</td><td>4362.64157</td><td>500</td></tr>\n",
       "<tr><td>KrI</td><td>4376.12159</td><td>800</td></tr>\n",
       "<tr><td>KrI</td><td>4399.96634</td><td>200</td></tr>\n",
       "<tr><td>KrI</td><td>4410.3681</td><td>50</td></tr>\n",
       "<tr><td>KrI</td><td>4425.19007</td><td>100</td></tr>\n",
       "<tr><td>KrI</td><td>4453.91749</td><td>600</td></tr>\n",
       "<tr><td>KrI</td><td>4463.69</td><td>800</td></tr>\n",
       "<tr><td>KrI</td><td>4502.35427</td><td>600</td></tr>\n",
       "<tr><td>...</td><td>...</td><td>...</td></tr>\n",
       "<tr><td>KrI</td><td>8059.5048</td><td>100</td></tr>\n",
       "<tr><td>KrI</td><td>8104.366</td><td>4000</td></tr>\n",
       "<tr><td>KrI</td><td>8112.9012</td><td>500</td></tr>\n",
       "<tr><td>KrI</td><td>8190.0566</td><td>300</td></tr>\n",
       "<tr><td>KrI</td><td>8263.2426</td><td>400</td></tr>\n",
       "<tr><td>KrI</td><td>8281.0522</td><td>200</td></tr>\n",
       "<tr><td>KrI</td><td>8298.1099</td><td>500</td></tr>\n",
       "<tr><td>KrI</td><td>8508.8728</td><td>200</td></tr>\n",
       "<tr><td>KrI</td><td>8776.7505</td><td>300</td></tr>\n",
       "<tr><td>KrI</td><td>8928.6933</td><td>200</td></tr>\n",
       "</table>"
      ],
      "text/plain": [
       "<Table masked=True length=31>\n",
       "Ion     wave    RelInt\n",
       "str5  float64   int64 \n",
       "---- ---------- ------\n",
       " KrI 4273.96943   1000\n",
       " KrI 4351.35969    100\n",
       " KrI 4362.64157    500\n",
       " KrI 4376.12159    800\n",
       " KrI 4399.96634    200\n",
       " KrI  4410.3681     50\n",
       " KrI 4425.19007    100\n",
       " KrI 4453.91749    600\n",
       " KrI    4463.69    800\n",
       " KrI 4502.35427    600\n",
       " ...        ...    ...\n",
       " KrI  8059.5048    100\n",
       " KrI   8104.366   4000\n",
       " KrI  8112.9012    500\n",
       " KrI  8190.0566    300\n",
       " KrI  8263.2426    400\n",
       " KrI  8281.0522    200\n",
       " KrI  8298.1099    500\n",
       " KrI  8508.8728    200\n",
       " KrI  8776.7505    300\n",
       " KrI  8928.6933    200"
      ]
     },
     "execution_count": 18,
     "metadata": {},
     "output_type": "execute_result"
    }
   ],
   "source": [
    "alist[alist['Ion']=='KrI']"
   ]
  },
  {
   "cell_type": "code",
   "execution_count": 21,
   "metadata": {
    "collapsed": false
   },
   "outputs": [
    {
     "data": {
      "text/html": [
       "&lt;Table masked=True length=11&gt;\n",
       "<table id=\"table4552577168\">\n",
       "<thead><tr><th>Ion</th><th>wave</th><th>RelInt</th></tr></thead>\n",
       "<thead><tr><th>str5</th><th>float64</th><th>int64</th></tr></thead>\n",
       "<tr><td>XeI</td><td>8231.6336</td><td>10000</td></tr>\n",
       "<tr><td>XeI</td><td>8280.1162</td><td>7000</td></tr>\n",
       "<tr><td>XeI</td><td>8346.8217</td><td>2000</td></tr>\n",
       "<tr><td>XeI</td><td>8409.1894</td><td>2000</td></tr>\n",
       "<tr><td>XeI</td><td>8819.4106</td><td>5000</td></tr>\n",
       "<tr><td>XeI</td><td>8952.2509</td><td>1000</td></tr>\n",
       "<tr><td>XeI</td><td>9799.697</td><td>2000</td></tr>\n",
       "<tr><td>XeI</td><td>9923.198</td><td>3000</td></tr>\n",
       "<tr><td>XeI</td><td>10838.34</td><td>1000</td></tr>\n",
       "<tr><td>XeI</td><td>11085.237</td><td>1900</td></tr>\n",
       "<tr><td>XeI</td><td>11742.236</td><td>1750</td></tr>\n",
       "</table>"
      ],
      "text/plain": [
       "<Table masked=True length=11>\n",
       "Ion     wave   RelInt\n",
       "str5  float64  int64 \n",
       "---- --------- ------\n",
       " XeI 8231.6336  10000\n",
       " XeI 8280.1162   7000\n",
       " XeI 8346.8217   2000\n",
       " XeI 8409.1894   2000\n",
       " XeI 8819.4106   5000\n",
       " XeI 8952.2509   1000\n",
       " XeI  9799.697   2000\n",
       " XeI  9923.198   3000\n",
       " XeI  10838.34   1000\n",
       " XeI 11085.237   1900\n",
       " XeI 11742.236   1750"
      ]
     },
     "execution_count": 21,
     "metadata": {},
     "output_type": "execute_result"
    }
   ],
   "source": [
    "alist[alist['Ion']=='XeI']"
   ]
  }
 ],
 "metadata": {
  "kernelspec": {
   "display_name": "Python 2",
   "language": "python",
   "name": "python2"
  },
  "language_info": {
   "codemirror_mode": {
    "name": "ipython",
    "version": 2
   },
   "file_extension": ".py",
   "mimetype": "text/x-python",
   "name": "python",
   "nbconvert_exporter": "python",
   "pygments_lexer": "ipython2",
   "version": "2.7.11"
  }
 },
 "nbformat": 4,
 "nbformat_minor": 0
}
